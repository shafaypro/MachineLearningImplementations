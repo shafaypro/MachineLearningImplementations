{
 "cells": [
  {
   "cell_type": "code",
   "execution_count": 2,
   "metadata": {
    "collapsed": true
   },
   "outputs": [],
   "source": [
    "from matplotlib import pyplot as plt\n",
    "# Getting the data from the file ( not the efficent way use data  frames from pandas)\n",
    "import numpy\n",
    "from sklearn.linear_model import LinearRegression\n",
    "# Getting the data from the sampledata csv file\n",
    "def data_from_file():\n",
    "    with open(\"sampledata.csv\", \"r\") as filedata:\n",
    "        return [line.strip() for line in filedata.readlines()[1:] ] # Wihtout the column names\n",
    "\n",
    "\n",
    "#print([line.split(\",\")[0] for line in data_from_file()])\n",
    "#exit(0)\n",
    "def get_X():\n",
    "#     new_x  = []\n",
    "#     for element in numpy.array([line.split(\",\")[1] for line in data_from_file()]): \n",
    "#         new_x.append(numpy.array(element))\n",
    "    return  [[6],[8],[10],[14],[18]] \n",
    "\n",
    "def get_Y():\n",
    "#     new_Y = []\n",
    "#     for element in numpy.array(numpy.array([line.split(\",\")[1] for line in data_from_file()]):\n",
    "#         new_Y.append(numpy.array(element))\n",
    "                               \n",
    "    return [[7],[9],[13],[17.5],[18]]\n",
    "\n",
    "def visualize_given_data():\n",
    "    instance_number = numpy.array([line.split(\",\")[0] for line in data_from_file()])\n",
    "    X = get_X()  # Is an exploratory variable\n",
    "    Y = get_Y()  # is response variable !\n",
    "    #print(type(X), type(Y)) # Just printing the type of the variabel !\n",
    "\n",
    "    plt.figure() # This intialized the figure\n",
    "    plt.title(\"PIZZA PRICE AGAINST DIAMETER \")\n",
    "    plt.xlabel('DIAMETER IN INCHES ') # setting the x label\n",
    "    plt.ylabel('Price in dollars') # setting the y label\n",
    "    plt.plot(X, Y,'k.') # Plotting the Exploratory variable and the response variable : \"k.\" denoted the points implacments\n",
    "    plt.axis([0, 25, 0, 25])\n",
    "    plt.grid(True) # This displayed the grids in the graph\n",
    "    plt.show() # generating the graph !\n",
    "\n",
    "def apply_linear_regression():\n",
    "    X = get_X()\n",
    "    Y = get_Y() # getting the Y and the X values\n",
    "    model = LinearRegression()\n",
    "    model.fit(X,Y) # this fits the Exploratory variable and the response variable !\n",
    "    return model\n",
    "# def visualize_sample_data(plt = None, X,Y):\n",
    "#     instance_number = numpy.array([line.split(\",\")[0] for line in data_from_file()])\n",
    "#     #X = get_X()  # Is an exploratory variable\n",
    "#     #Y = get_Y()  # is response variable !\n",
    "#     #print(type(X), type(Y)) # Just printing the type of the variabel !\n",
    "\n",
    "#     plt.figure() # This intialized the figure\n",
    "#     plt.title(\"PIZZA PRICE AGAINST DIAMETER \")\n",
    "#     plt.xlabel('DIAMETER IN INCHES ') # setting the x label\n",
    "#     plt.ylabel('Price in dollars') # setting the y label\n",
    "#     plt.plot(X, Y,'k.') # Plotting the Exploratory variable and the response variable : \"k.\" denoted the points implacments\n",
    "#     plt.axis([0, 25, 0, 25])\n",
    "#     plt.grid(True) # This displayed the grids in the graph\n",
    "#     return plt"
   ]
  },
  {
   "cell_type": "code",
   "execution_count": 3,
   "metadata": {},
   "outputs": [
    {
     "data": {
      "image/png": "[encoded data removed]",
      "text/plain": [
       "<matplotlib.figure.Figure at 0x10c96dd10>"
      ]
     },
     "metadata": {},
     "output_type": "display_data"
    }
   ],
   "source": [
    "visualize_given_data()\n"
   ]
  },
  {
   "cell_type": "code",
   "execution_count": 4,
   "metadata": {},
   "outputs": [
    {
     "name": "stdout",
     "output_type": "stream",
     "text": [
      "([[6], [8], [10], [14], [18]], [[7], [9], [13], [17.5], [18]])\n"
     ]
    }
   ],
   "source": [
    "print(get_X(),get_Y())"
   ]
  },
  {
   "cell_type": "code",
   "execution_count": 5,
   "metadata": {
    "collapsed": true
   },
   "outputs": [],
   "source": [
    "model = apply_linear_regression()"
   ]
  },
  {
   "cell_type": "code",
   "execution_count": 6,
   "metadata": {},
   "outputs": [
    {
     "name": "stdout",
     "output_type": "stream",
     "text": [
      "('Prediction for the value : ', 1)\n",
      "('The Predicted Value from the model is : ', array([ 2.94181034]))\n",
      "('Prediction for the value : ', 2)\n",
      "('The Predicted Value from the model is : ', array([ 3.91810345]))\n",
      "('Prediction for the value : ', 3)\n",
      "('The Predicted Value from the model is : ', array([ 4.89439655]))\n",
      "('Prediction for the value : ', 4)\n",
      "('The Predicted Value from the model is : ', array([ 5.87068966]))\n",
      "('Prediction for the value : ', 5)\n",
      "('The Predicted Value from the model is : ', array([ 6.84698276]))\n",
      "('Prediction for the value : ', 6)\n",
      "('The Predicted Value from the model is : ', array([ 7.82327586]))\n",
      "('Prediction for the value : ', 7)\n",
      "('The Predicted Value from the model is : ', array([ 8.79956897]))\n",
      "('Prediction for the value : ', 8)\n",
      "('The Predicted Value from the model is : ', array([ 9.77586207]))\n",
      "('Prediction for the value : ', 9)\n",
      "('The Predicted Value from the model is : ', array([ 10.75215517]))\n"
     ]
    }
   ],
   "source": [
    "import random\n",
    "model.predict(12)[0][0]\n",
    "X_input = []\n",
    "Y_output = []\n",
    "for i in range(1,10):\n",
    "    print(\"Prediction for the value : \", i)\n",
    "    X_input.append(i)\n",
    "    print(\"The Predicted Value from the model is : \",model.predict(i)[0])\n",
    "    Y_output.append(model.predict(i)[0][0])"
   ]
  },
  {
   "cell_type": "code",
   "execution_count": 7,
   "metadata": {
    "collapsed": true
   },
   "outputs": [],
   "source": [
    "## THE LINEAR REGRESSION IS AN ESTIMATOR HERE, SINCE ITS ESTIMATING THE PRICE WHICH WOULD BE FOR THE PIZZA\n",
    "## GETTING THE RESIDULA SUM OF SQUARES FOR OUR MODEL"
   ]
  },
  {
   "cell_type": "markdown",
   "metadata": {},
   "source": [
    "# Residal sum of squares "
   ]
  },
  {
   "cell_type": "code",
   "execution_count": 8,
   "metadata": {},
   "outputs": [
    {
     "name": "stdout",
     "output_type": "stream",
     "text": [
      "Residual Sum of squares : 1.75\n"
     ]
    }
   ],
   "source": [
    "import numpy as np # Importing the numpy module \n",
    "X = numpy.array(get_X())\n",
    "Y = numpy.array(get_Y())\n",
    "print(\"Residual Sum of squares : %.2f\"%np.mean((model.predict(X)-Y)**2))\n",
    "# This Gets the residal sum of squares "
   ]
  },
  {
   "cell_type": "code",
   "execution_count": 9,
   "metadata": {},
   "outputs": [
    {
     "name": "stdout",
     "output_type": "stream",
     "text": [
      "0.666666666667\n"
     ]
    }
   ],
   "source": [
    "from __future__ import division # Importing the python 3 division package\n",
    "print(2/3) # Will Prints the float results even the integer is being divided"
   ]
  },
  {
   "cell_type": "markdown",
   "metadata": {},
   "source": [
    "# # MEAN OF A NUMPY ARRAY"
   ]
  },
  {
   "cell_type": "code",
   "execution_count": 11,
   "metadata": {},
   "outputs": [
    {
     "name": "stdout",
     "output_type": "stream",
     "text": [
      "11.2\n"
     ]
    }
   ],
   "source": [
    "mean_x  = np.mean(X)\n",
    "print(mean_x) # This prints the mean value "
   ]
  },
  {
   "cell_type": "markdown",
   "metadata": {},
   "source": [
    "# VARIANCE OF X ----    (X - MEANX )^2 DIVIDED n-1"
   ]
  },
  {
   "cell_type": "code",
   "execution_count": 12,
   "metadata": {},
   "outputs": [
    {
     "name": "stdout",
     "output_type": "stream",
     "text": [
      "[array([ 27.04]), array([ 10.24]), array([ 1.44]), array([ 7.84]), array([ 46.24])]\n"
     ]
    }
   ],
   "source": [
    "# For calculating the variance for the model \n",
    "K = [(x-mean_x)**2 for x in X] # This is x-mean_x complete list which would be used in the variance calculation\n",
    "print(K)\n",
    "variance = sum(K)/(len(X)-1)"
   ]
  },
  {
   "cell_type": "code",
   "execution_count": 13,
   "metadata": {},
   "outputs": [
    {
     "name": "stdout",
     "output_type": "stream",
     "text": [
      "[ 23.2]\n"
     ]
    }
   ],
   "source": [
    "print(variance) # Gets the variance from the model .  \n",
    "var_x = variance"
   ]
  },
  {
   "cell_type": "markdown",
   "metadata": {},
   "source": [
    "# VARIANCE DIRECTLY CALCULATION THROUGH NUMPY "
   ]
  },
  {
   "cell_type": "code",
   "execution_count": 14,
   "metadata": {},
   "outputs": [
    {
     "name": "stdout",
     "output_type": "stream",
     "text": [
      "('The variance of x is : ', 23.199999999999999)\n"
     ]
    }
   ],
   "source": [
    "#ALTERNATIVE WAY FOR CALCULATING THE MEAN\n",
    "print(\"The variance of x is : \",np.var(X,ddof = 1)) # the ddof keyword is Bassel Correctiong the sample varience # This is optimized way"
   ]
  },
  {
   "cell_type": "markdown",
   "metadata": {},
   "source": [
    "# Calculating COVARIANCE MANUALLY : SUM OF ALL ((X-MEANX) * (Y-MEANY)) DIVIDED BY N - 1"
   ]
  },
  {
   "cell_type": "code",
   "execution_count": 15,
   "metadata": {},
   "outputs": [
    {
     "name": "stdout",
     "output_type": "stream",
     "text": [
      "('The mean of x is ', 11.199999999999999)\n",
      "('The mean of y is :', 12.9)\n",
      "('List of all X - meanX', [array([-5.2]), array([-3.2]), array([-1.2]), array([ 2.8]), array([ 6.8])])\n",
      "('List of all Y - meanY', [array([-5.9]), array([-3.9]), array([ 0.1]), array([ 4.6]), array([ 5.1])])\n",
      "('Covariance : ', 22.649999999999999)\n"
     ]
    }
   ],
   "source": [
    "# Covarience is how Two variables change together so (x-mean_X) * (y-mean_Y)\n",
    "# KEEP IN MIND IN HERE WE DON'T NEED TO DO THE SQUARED OF THE VARIABLES MODEL X AND Y\n",
    "mean_X = np.mean(X)\n",
    "mean_Y = np.mean(Y) # gets the mean of the Y : response variables \n",
    "K = [(x - mean_X) for x in X] # For all the mean of the X\n",
    "K_2 = [(y-mean_Y) for y in Y] # For all the mean of the Y\n",
    "Resulted_product  =  [(K[i]*K_2[i]) for i in range(len(X))] # the Resulting product for each of the one Multiplited \n",
    "print(\"The mean of x is \",mean_X) # prints the mean of X\n",
    "print(\"The mean of y is :\",mean_Y) # Just for debugging printing the mena of the Y value \n",
    "print(\"List of all X - meanX\", K)\n",
    "print(\"List of all Y - meanY\",K_2)\n",
    "print(\"Covariance : \", (sum(Resulted_product)/ (len(Resulted_product) - 1))[0])"
   ]
  },
  {
   "cell_type": "markdown",
   "metadata": {},
   "source": [
    "# Usnig numpy.cov() # function for the variance calculation"
   ]
  },
  {
   "cell_type": "code",
   "execution_count": 16,
   "metadata": {},
   "outputs": [
    {
     "name": "stdout",
     "output_type": "stream",
     "text": [
      "('Flated X list :', [6.0, 8.0, 10.0, 14.0, 18.0])\n",
      "('Flated Y list : ', [7.0, 9.0, 13.0, 17.5, 18.0])\n",
      "('The Covariance is : ', array([[ 23.2 ,  22.65],\n",
      "       [ 22.65,  24.3 ]]))\n"
     ]
    }
   ],
   "source": [
    "flat_listX = [float(item[0])  for item in numpy.ndarray.tolist(X)]\n",
    "flat_listY = [float(item[0]) for item in numpy.ndarray.tolist(Y)]\n",
    "print(\"Flated X list :\",flat_listX)\n",
    "print(\"Flated Y list : \",flat_listY)\n",
    "coV= np.cov(flat_listX,flat_listY) # keep in mind that both X and Y are the list and all the values are calculated by the numpy for this\n",
    "print(\"The Covariance is : \",coV)"
   ]
  },
  {
   "cell_type": "code",
   "execution_count": 17,
   "metadata": {
    "collapsed": true
   },
   "outputs": [],
   "source": [
    "## BETA = COVARIANCE(X,Y) / VARIANCE(X)      :: X -> Exploratory Variable  Y--> Responce Variable\n",
    "## keep in mind that BETA is --> Y = Beta * x + Alpha  ( kind of m : slope)"
   ]
  },
  {
   "cell_type": "code",
   "execution_count": 18,
   "metadata": {},
   "outputs": [
    {
     "name": "stdout",
     "output_type": "stream",
     "text": [
      "('Beta :', 0.9762931034482758)\n"
     ]
    }
   ],
   "source": [
    "Beta = coV[0] / var_x\n",
    "print(\"Beta :\",Beta[1])\n"
   ]
  },
  {
   "cell_type": "markdown",
   "metadata": {},
   "source": [
    "# FOR CALCULATING ALPHA : WE CAN SOLVE IT BY  : alpha = Y - bETA *X "
   ]
  },
  {
   "cell_type": "code",
   "execution_count": 19,
   "metadata": {},
   "outputs": [
    {
     "name": "stdout",
     "output_type": "stream",
     "text": [
      "('ALPHA IS : ', 1.9655172413793114)\n"
     ]
    }
   ],
   "source": [
    "Alpha = mean_Y - Beta * mean_X\n",
    "print(\"ALPHA IS : \", Alpha[1]) # prints the value for the alpha ."
   ]
  },
  {
   "cell_type": "code",
   "execution_count": 20,
   "metadata": {},
   "outputs": [
    {
     "name": "stdout",
     "output_type": "stream",
     "text": [
      "19.538737\n",
      "[[ 19.5387931]]\n"
     ]
    }
   ],
   "source": [
    "print(1.965517 + 0.97629*18.0) # Using the formulae Alpha and beta\n",
    "print(model.predict(18.0)) # predicting manually # CROSS VALIDATION"
   ]
  },
  {
   "cell_type": "markdown",
   "metadata": {},
   "source": [
    "# EVALUATING THE MODEL USING : R SQUARED : keep in mind that the value of rsquared is in 0-1 , and it is not pearson r square ."
   ]
  },
  {
   "cell_type": "code",
   "execution_count": 21,
   "metadata": {
    "collapsed": true
   },
   "outputs": [],
   "source": [
    "## SS = SUM OF ALL ( y_value - MEAN_Y) ^ 2\n",
    "## SS_res = SUM OF ALL ( y - f(xi))    # Here the f(xi) --> linear Regression Predicted value of Y obtained from X   "
   ]
  },
  {
   "cell_type": "code",
   "execution_count": 22,
   "metadata": {},
   "outputs": [
    {
     "name": "stdout",
     "output_type": "stream",
     "text": [
      "[ 8  9 11 16 12]\n",
      "12.7\n"
     ]
    }
   ],
   "source": [
    "# ANOTHER DATA SET FOR REGRESSION ! \n",
    "diameter_in_inches = np.array([8,9,11,16,12])\n",
    "observed_price = np.array([11,8.5,15,18,11])\n",
    "predicted_price = np.array ([9.7759,10.7522,12.7048,17.5863,13.6811])\n",
    "print(diameter_in_inches)\n",
    "print(np.mean(observed_price))"
   ]
  },
  {
   "cell_type": "code",
   "execution_count": 23,
   "metadata": {},
   "outputs": [
    {
     "name": "stdout",
     "output_type": "stream",
     "text": [
      "('SS_TOTAL : ', 56.799999999999997)\n",
      "('SS_RESIDUAL :', 19.198213590000002)\n",
      "('R Squared r :', 0.66200328186619717)\n"
     ]
    }
   ],
   "source": [
    "# R squared : How well the observed value of the response variable predicted the model.\n",
    "SS_tot = sum((observed_price - np.mean(observed_price))**2) # SS_TOTAL value is calculated by the predected value and the Intial Value of the y \n",
    "SS_res = sum((observed_price - predicted_price)**2) # Taking the square as well after the calculation\n",
    "print(\"SS_TOTAL : \",SS_tot)\n",
    "print(\"SS_RESIDUAL :\",SS_res)\n",
    "# R Squared = 1 - SS_res / ss_tot\n",
    "R = 1 - SS_res/SS_tot\n",
    "print(\"R Squared r :\", R)\n"
   ]
  },
  {
   "cell_type": "code",
   "execution_count": 24,
   "metadata": {},
   "outputs": [
    {
     "name": "stdout",
     "output_type": "stream",
     "text": [
      "('The value of R square is : ', 0.6620052929422553)\n"
     ]
    }
   ],
   "source": [
    "X_test = diameter_in_inches#[[8],[9],[11],[16],[12]]\n",
    "Y_test = observed_price #[[11],[8.5],[15],[18],[11]]\n",
    "print(\"The value of R square is : \", model.score(np.array(X_test).reshape(-1,1),np.array(Y_test).reshape(-1,1)))"
   ]
  },
  {
   "cell_type": "markdown",
   "metadata": {},
   "source": [
    "# MULTI LINEAR REGRESSION"
   ]
  },
  {
   "cell_type": "code",
   "execution_count": 25,
   "metadata": {
    "collapsed": true
   },
   "outputs": [],
   "source": [
    "# FOR HAVING THE MULTI LINEAR REGRESSSION , KEEP IN MIND THAT PREDICTED VALUE IS :\n",
    "## AS IN Y = ALPHA + BETA1X1  + BETA2X2 ..... \n",
    "# SINCE IN GENERAL : Y = X BETA\n",
    "# AND IN MATRIXES FORM [Y1;Y2 ; ...YN] = [ 1, X ; 1,X2;...]   * [ALPHA ; BETA ]\n",
    "# @SO : For minimizing the cost Function : \n",
    "#  BETA  =  (X^T   *  X ) ^ -1 * X^T * Y"
   ]
  },
  {
   "cell_type": "code",
   "execution_count": 26,
   "metadata": {
    "collapsed": true
   },
   "outputs": [],
   "source": [
    "X = [[1,6,2],[1,8,1],[1,10,0],[1,14,2],[1,18,0]] # EXPLORATORY VARIABLES 2 : --> \n",
    "Y_response  = [[7],[9],[13],[17.5],[18]] # Response variable for the specified Exploratry variables !\n",
    "# APPLYING THE TRANSPOSE ON DATA SET \n",
    "\n"
   ]
  },
  {
   "cell_type": "markdown",
   "metadata": {},
   "source": [
    "### TANSPOSE OF THE MATRIX\n"
   ]
  },
  {
   "cell_type": "code",
   "execution_count": 27,
   "metadata": {},
   "outputs": [
    {
     "name": "stdout",
     "output_type": "stream",
     "text": [
      "('ORIGINAL DATASET : ', [[1, 6, 2], [1, 8, 1], [1, 10, 0], [1, 14, 2], [1, 18, 0]])\n",
      "('Transposed data set', array([[ 1,  1,  1,  1,  1],\n",
      "       [ 6,  8, 10, 14, 18],\n",
      "       [ 2,  1,  0,  2,  0]]))\n"
     ]
    }
   ],
   "source": [
    "from numpy import dot,transpose # Finding the transpose ofthe numpy !\n",
    "transpose_X =  transpose(X) # having the dataset TRANSPOSED\n",
    "print(\"ORIGINAL DATASET : \",X)\n",
    "print(\"Transposed data set\",transpose_X)"
   ]
  },
  {
   "cell_type": "code",
   "execution_count": 28,
   "metadata": {},
   "outputs": [
    {
     "name": "stdout",
     "output_type": "stream",
     "text": [
      "[[ 1.1875    ]\n",
      " [ 1.01041667]\n",
      " [ 0.39583333]]\n"
     ]
    }
   ],
   "source": [
    "from numpy.linalg import inv # inverse of the matrix header file \n",
    "# SO FOR THE VALUE OF BETA FROM NORMAL EQUATION ITS : \n",
    "#  BETA  =  (X^T   *  X ) ^ -1 * X^T * Y\n",
    "Beta = dot( inv(   dot(transpose_X, X))   , dot(transpose_X,Y_response)) # \n",
    "print(Beta) # prints the gvalue of the bea"
   ]
  },
  {
   "cell_type": "markdown",
   "metadata": {},
   "source": [
    "## NUMPY FUNCTION : lstsq(X,Y) :: provides least square functions\n"
   ]
  },
  {
   "cell_type": "code",
   "execution_count": 29,
   "metadata": {},
   "outputs": [
    {
     "name": "stdout",
     "output_type": "stream",
     "text": [
      "[[ 1.1875    ]\n",
      " [ 1.01041667]\n",
      " [ 0.39583333]]\n"
     ]
    }
   ],
   "source": [
    "from numpy.linalg import lstsq\n",
    "print(lstsq(X,Y_response)[0]) # This prints the least square for the function : prints the best least square"
   ]
  },
  {
   "cell_type": "code",
   "execution_count": 30,
   "metadata": {},
   "outputs": [
    {
     "data": {
      "image/png": "[encoded data removed]",
      "text/plain": [
       "<matplotlib.figure.Figure at 0x10c96db10>"
      ]
     },
     "metadata": {},
     "output_type": "display_data"
    }
   ],
   "source": [
    "from matplotlib import pyplot as plt # Importing the data visualization library from the web\n",
    "model = LinearRegression() #Creating the set of model forim the data set  \n",
    "model.fit(X,Y) # using the original Dataset to perform the model on \n",
    "plot1 = plt\n",
    "plot1.figure()\n",
    "plot1.plot(X,'k.',label=\"X TRAINING\")\n",
    "plot1.plot(Y,'k.', label = \"Y TRAINING\")\n",
    "plot1.xlabel(\"EXPLORATORY VARIABLE E\")\n",
    "plot1.ylabel(\"RESPONSE VARIABLE: Y\")\n",
    "plot1.title(\"PIZZA MACHINE LEARNING\")\n",
    "plot1.plot(X,Y)\n",
    "plot1.legend()\n",
    "plot1.show()"
   ]
  },
  {
   "cell_type": "code",
   "execution_count": 31,
   "metadata": {},
   "outputs": [
    {
     "name": "stdout",
     "output_type": "stream",
     "text": [
      "('PREDICTED : ', array([ 11.9137931]), ' TARGET :', array([ 11.9137931]))\n",
      "('PREDICTED : ', array([ 12.15948276]), ' TARGET :', array([ 12.15948276]))\n",
      "('PREDICTED : ', array([ 12.65086207]), ' TARGET :', array([ 12.65086207]))\n",
      "('PREDICTED : ', array([ 13.87931034]), ' TARGET :', array([ 13.87931034]))\n",
      "('PREDICTED : ', array([ 12.89655172]), ' TARGET :', array([ 12.89655172]))\n",
      "('R Squared Erro : ', 0.29010083464520775)\n"
     ]
    },
    {
     "data": {
      "image/png": "[encoded data removed]",
      "text/plain": [
       "<matplotlib.figure.Figure at 0x1a17eb7e50>"
      ]
     },
     "metadata": {},
     "output_type": "display_data"
    }
   ],
   "source": [
    "X = [[6],[8],[10],[14],[18]]\n",
    "Y = [[7],[9],[13],[17.5],[18]]\n",
    "X_Test = [[8],[9],[11],[16],[12]]\n",
    "Y = [[11],[8.5],[15],[18],[11]]\n",
    "model = LinearRegression()\n",
    "model.fit(X,Y) # Fitting the single parameter \n",
    "Predicted_Y = model.predict(X_Test) # predictiing the complete Testing Variable\n",
    "for i,predicted in enumerate(Predicted_Y):\n",
    "    print(\"PREDICTED : \", predicted,\" TARGET :\",Predicted_Y[i])\n",
    "print(\"R Squared Erro : \",model.score(X_Test,Y))\n",
    "plot11 = plt # Having the plotting for the simple linear regression with one parameter s\n",
    "plot11.plot(X,Y,\"k.\")\n",
    "plot11.grid(True)\n",
    "plot11.axis(\"on\") \n",
    "plot11.show()\n"
   ]
  },
  {
   "cell_type": "markdown",
   "metadata": {},
   "source": [
    "# # MULTI LINEAR OPTIMIZED NUMPY REGRESSION"
   ]
  },
  {
   "cell_type": "code",
   "execution_count": 72,
   "metadata": {},
   "outputs": [
    {
     "name": "stdout",
     "output_type": "stream",
     "text": [
      "Predicted: [ 10.0625]  Target : [11]\n",
      "Predicted: [ 10.28125]  Target : [8.5]\n",
      "Predicted: [ 13.09375]  Target : [15]\n",
      "Predicted: [ 18.14583333]  Target : [18]\n",
      "Predicted: [ 13.3125]  Target : [11]\n"
     ]
    },
    {
     "data": {
      "image/png": "[encoded data removed]",
      "text/plain": [
       "<matplotlib.figure.Figure at 0x1a18f154d0>"
      ]
     },
     "metadata": {},
     "output_type": "display_data"
    },
    {
     "data": {
      "image/png": "[encoded data removed]",
      "text/plain": [
       "<matplotlib.figure.Figure at 0x1a18fc3450>"
      ]
     },
     "metadata": {},
     "output_type": "display_data"
    },
    {
     "name": "stdout",
     "output_type": "stream",
     "text": [
      "R Sq\n",
      "('R Squared Value IS : ', 0.77016777313184681)\n"
     ]
    }
   ],
   "source": [
    "plot2 = plt\n",
    "plot3 = plt # For the third plot \n",
    "X = [[6,2],[8,1],[10,0],[14,2],[18,0]] # X axis data set\n",
    "Y = [[7],[9],[13],[17.5],[18]]\n",
    "plot2.plot(X,Y,\"k.\")\n",
    "plot2.plot(X,Y,label=\"Test X - Y \")\n",
    "model = LinearRegression() # Importing the linear Regression from the LR module\n",
    "model.fit(X,Y)  # Fitting out training data in the model \n",
    "X_Test = [[8,2],[9,0],[11,2],[16,2],[12,0]] # this is out test data set to check the difference or the Least Square error we face \n",
    "Y_Test = [[11],[8.5],[15],[18],[11]]\n",
    "# PRECICTION OF THE TEST SET\n",
    "\n",
    "plot3.plot(X_Test,Y_Test,'k.')\n",
    "plot3.plot(X_Test,Y_Test)\n",
    "prediction_X_Test = model.predict(X_Test) # gets the predicted Y values for all the test values of the X\n",
    "for count, prediction in enumerate(prediction_X_Test):\n",
    "    print (\"Predicted: %s  Target : %s\"%(prediction, Y_Test[count])) # printing the Prediction and the expected values \n",
    "plot2.plot(X_Test,prediction_X_Test,label = \"Predected X\") # Plotting the Predicted values !\n",
    "plot2.plot(prediction_X_Test,label = \"Predected Y\") # Plotting the Predicted values !\n",
    "\n",
    "\n",
    "# handles, labels = plot2.get_legend_handles_labels()\n",
    "# lgd = plot2.legend(handles, labels, loc='upper center', bbox_to_anchor=(0.5,-0.1))\n",
    "plot2.grid(True)\n",
    "plot2.legend() # Calls in the legends\n",
    "plot2.show()#  showing the plot !\n",
    "plot3.grid(True)\n",
    "#plot3.legend()\n",
    "plot3.show()\n",
    "print(\"R Sq\")\n",
    "print(\"R Squared Value IS : \",model.score(X_Test,Y_Test))"
   ]
  },
  {
   "cell_type": "markdown",
   "metadata": {
    "collapsed": true
   },
   "source": [
    "# POLYNOMIAL REGRESSION"
   ]
  },
  {
   "cell_type": "code",
   "execution_count": 73,
   "metadata": {
    "collapsed": true
   },
   "outputs": [],
   "source": [
    "# Since the quadratic equation adds in the Y = Alpha + Beta1 X + BEta2X^2"
   ]
  },
  {
   "cell_type": "code",
   "execution_count": 74,
   "metadata": {
    "collapsed": true
   },
   "outputs": [],
   "source": [
    "# Since now in this case we would have the third model --> beta2 X^2  ad this value of x remains the same althrough the variation of \n",
    "#Square is taken in this case to get the data \n",
    "import numpy as np # Numpy conventions \n",
    "from matplotlib import pyplot as plt # For Visualiation\n",
    "from sklearn.linear_model import LinearRegression # Linear Regression Model accessing .\n",
    "from sklearn.preprocessing import PolynomialFeatures #Extracts the polynomial from the given feature\n"
   ]
  },
  {
   "cell_type": "code",
   "execution_count": 75,
   "metadata": {},
   "outputs": [
    {
     "data": {
      "image/png": "[encoded data removed]",
      "text/plain": [
       "<matplotlib.figure.Figure at 0x1a18d8e950>"
      ]
     },
     "metadata": {},
     "output_type": "display_data"
    }
   ],
   "source": [
    "# DATA SETS\n",
    "X_train = [[6],[8],[10],[14],[18]]\n",
    "Y_train = [[7],[9],[13],[17.5],[18]]\n",
    "X_test = [[6],[8],[11],[16]]\n",
    "Y_test = [[8],[12],[15],[18]]\n",
    "regressor = LinearRegression() # Linear Regression model\n",
    "regressor.fit(X_train,Y_train) # Fitting the model for the regressor\n",
    "# Creating a test sample from 0 - 26 : dividing to 100 points \n",
    "xx =np.linspace(0, 26, 100) # Having the line space \n",
    "# print(xx)  Checking the output for xx generated\n",
    "# xx.reshape(xx.shape[0],1) This will convert to a Numpy 2D --> 1 dimentional Array ( list of list )\n",
    "yy = regressor.predict(xx.reshape(xx.shape[0],1)) # Predicts the values for the xx linespace \n",
    "plt.plot(xx,yy) # Plotting the Graph\n",
    "plt.show() # Showing on  the IDE/GUI"
   ]
  },
  {
   "cell_type": "code",
   "execution_count": 76,
   "metadata": {},
   "outputs": [],
   "source": [
    "\n",
    "from sklearn.preprocessing import PolynomialFeatures #Extracts the polynomial from the given feature\n",
    "quadratic_featurizer =  PolynomialFeatures(degree = 2) # Creating a Polynomial Feature based on the Degree : Degree\n",
    "# Degree represents the X^2 , X^3 stuff\n",
    "X_train_quadratic = quadratic_featurizer.fit_transform(X_train) # fir transform first fits the model and then Transforms#\n",
    "# IN such a way that the Transformation is done after firtting in the feature model.\n",
    "X_test_quadratic = quadratic_featurizer.transform(X_test) # This just transforms the X_test Data to plynomial Features (row by row)\n",
    "#print(X_train_quadratic)\n",
    "#print(X_test_quadratic)\n"
   ]
  },
  {
   "cell_type": "code",
   "execution_count": 77,
   "metadata": {},
   "outputs": [],
   "source": [
    "# LINEAR MODEL --> FITTING THE MODEL ON X_TRAIN (QUADRATIC) :--> having the x^2 Quadratic feature \n",
    "regressor_quadtratic = LinearRegression()# Creating the Linear Regression model\n",
    "regressor_quadtratic.fit(X_train_quadratic, Y_train) # Applying the linear Regression on teh Polynomialozed Feature X and the Y training set\n",
    "xx_quadratic = quadratic_featurizer.transform(xx.reshape(xx.shape[0],1)) # transforms the data set to polynomial one\n",
    "\n",
    "#print(xx_quadratic ) # Check the Output for more cleareance : this is the output for the xx data reshaped (100 samples)"
   ]
  },
  {
   "cell_type": "code",
   "execution_count": 78,
   "metadata": {},
   "outputs": [
    {
     "data": {
      "image/png": "[encoded data removed]",
      "text/plain": [
       "<matplotlib.figure.Figure at 0x1a18224310>"
      ]
     },
     "metadata": {},
     "output_type": "display_data"
    }
   ],
   "source": [
    "plt.plot(xx,regressor_quadtratic.predict(xx_quadratic), c = 'r', linestyle = '--',label = \"Linear Regression : 1\")  # line stype represents : drawing style\n",
    "# The c represents color of the graph line .\n",
    "plt.plot(xx,yy, label = \"Random Range data\")\n",
    "plt.title(\"PIZZA PRICE REGRESSED ON BASIS OF DIAMETER\")\n",
    "plt.xlabel(\"DIAMETER IN INCHES \")\n",
    "plt.ylabel(\"PRICE IN DOLLAR\")\n",
    "plt.axis([0,25,0,25])\n",
    "plt.grid(True)\n",
    "plt.scatter(X_train,Y_train)\n",
    "plt.plot(X_train,Y_train,label = \"Train data line\")\n",
    "plt.legend() # Showing the legends of the data\n",
    "plt.show() # Showing the Plotted data at the end"
   ]
  },
  {
   "cell_type": "code",
   "execution_count": 79,
   "metadata": {},
   "outputs": [
    {
     "name": "stdout",
     "output_type": "stream",
     "text": [
      "[[6], [8], [10], [14], [18]]\n",
      "[[   1.    6.   36.]\n",
      " [   1.    8.   64.]\n",
      " [   1.   10.  100.]\n",
      " [   1.   14.  196.]\n",
      " [   1.   18.  324.]]\n",
      "[[6], [8], [11], [16]]\n",
      "[[   1.    6.   36.]\n",
      " [   1.    8.   64.]\n",
      " [   1.   11.  121.]\n",
      " [   1.   16.  256.]]\n",
      "('Simple Linear Regression R-Squared : ', 0.80972679770766498)\n",
      "('Quadratic Regression R- Squared :', 0.86754436563450543)\n"
     ]
    }
   ],
   "source": [
    "print(X_train) # A single 5 elements\n",
    "print(X_train_quadratic) # 5 *3 Matrix\n",
    "print(X_test) # A single 4 element \n",
    "print(X_test_quadratic) # Quadractried  x test\n",
    "print(\"Simple Linear Regression R-Squared : \",regressor.score(X_test, Y_test )) # Using the Linear Model for the regression scoring\n",
    "print(\"Quadratic Regression R- Squared :\",regressor_quadtratic.score(X_test_quadratic, Y_test)) # Score of the Quadratic one as well\n"
   ]
  },
  {
   "cell_type": "code",
   "execution_count": 92,
   "metadata": {},
   "outputs": [],
   "source": [
    "## PLOTTING WITH A CUBIC POLYNOMIAL FEATURE \"\n",
    "# Cubic_feature = PolynomialFeatures(degree = 3) # FOR THE 3RD DEGREE POLYNOMIAL\n",
    "# xxx_train = Cubic_feature.fit_transform(X_train) # For the transformation of the X_training data in the Cubical Feature\n",
    "# xxx_test = Cubic_feature.transform(X_test)\n",
    "# regresser_cubic = LinearRegression() # for the Regression of the cubic model \n",
    "# regresser_cubic.fit(xxx_train,Y_train) # Cubic Transformation of the Data x train to the one  \n",
    "# print(regresser_cubic.predict(xxx_train))\n",
    "# rc = Cubic_feature.transform(xxx_train.shape[0])\n",
    "# plt.plot(rc,regresser_cubic.predict(xxx_train),label=\"cubic polynomial Degree\")\n",
    "# plt.show()"
   ]
  },
  {
   "cell_type": "code",
   "execution_count": null,
   "metadata": {
    "collapsed": true
   },
   "outputs": [],
   "source": []
  }
 ],
 "metadata": {
  "kernelspec": {
   "display_name": "Python 2",
   "language": "python",
   "name": "python2"
  },
  "language_info": {
   "codemirror_mode": {
    "name": "ipython",
    "version": 2
   },
   "file_extension": ".py",
   "mimetype": "text/x-python",
   "name": "python",
   "nbconvert_exporter": "python",
   "pygments_lexer": "ipython2",
   "version": "2.7.13"
  }
 },
 "nbformat": 4,
 "nbformat_minor": 2
}
