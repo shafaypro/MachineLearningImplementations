{
 "cells": [
  {
   "cell_type": "code",
   "execution_count": 3,
   "metadata": {},
   "outputs": [
    {
     "name": "stdout",
     "output_type": "stream",
     "text": [
      "[[ 0.  0.  1.]\n",
      " [ 1.  0.  0.]\n",
      " [ 0.  1.  0.]]\n"
     ]
    }
   ],
   "source": [
    "from sklearn.feature_extraction import DictVectorizer # This modoule will be used for the\n",
    "# Conversion of the Catergorical value to a numeric one ( which can be used in the analysis : for the Classifier)\n",
    "\n",
    "one_hot_encode = DictVectorizer() # The object would be used to convert the dictionaries of the categorized in to Numerica hot encoded \n",
    "# Features \n",
    "instances = [{\"city\" : \"New York\"},{\"city\" : \"Lahore\"},{\"city\":\"Miami\"}]\n",
    "ohe = one_hot_encode.fit_transform(instances)#.toarray() # Converts the encoded and gets the array \n",
    "ohe # A sparse matrix !!!!!\n",
    "ohe.toarray() # Conversion to an array for the show , kind of like the interslope is 1 \n",
    "print(ohe.toarray()) # Doesn't have an order  !\n",
    "    "
   ]
  },
  {
   "cell_type": "code",
   "execution_count": 16,
   "metadata": {},
   "outputs": [
    {
     "name": "stdout",
     "output_type": "stream",
     "text": [
      "{u'duke': 2, u'basketball': 1, u'lost': 5, u'played': 6, u'in': 4, u'game': 3, u'sandwich': 7, u'unc': 9, u'ate': 0, u'the': 8}\n"
     ]
    }
   ],
   "source": [
    "# Feature Extraction from documents : Strings !  \n",
    "from sklearn.feature_extraction.text import CountVectorizer # Will be used to convert the text to the strings ! tokens ,\n",
    "# The CountVectorizer converts the string in to the bag of words using the regular expressions \n",
    "data_corpus = [\"UNC played Duke in basketball\", \"Duke lost the basketball game\",\"I ate a Sandwich\"] # Document data corpus ! \n",
    "vectorizer_instance = CountVectorizer() # Instance for the vectorization ! \n",
    "vectorizer_instance.fit_transform(data_corpus) # This returns the document matrix converted !\n",
    "vectorizer_instance.fit_transform(data_corpus).todense() # RETURNS THE MATRIX REPRESENTATIOn\n",
    "print(vectorizer_instance.vocabulary_) # Has the vocably as well as the count of it "
   ]
  },
  {
   "cell_type": "code",
   "execution_count": 20,
   "metadata": {},
   "outputs": [
    {
     "name": "stdout",
     "output_type": "stream",
     "text": [
      "('UNC played Duke in basketball', matrix([[0, 1, 1, 0, 1, 0, 1, 0, 0, 1]]))\n",
      "('Duke lost the basketball game', matrix([[0, 1, 1, 1, 0, 1, 0, 0, 1, 0]]))\n",
      "('I ate a Sandwich', matrix([[1, 0, 0, 0, 0, 0, 0, 1, 0, 0]]))\n"
     ]
    }
   ],
   "source": [
    "for i,matrix in enumerate(vectorizer_instance.fit_transform(data_corpus).todense()):\n",
    "    print(data_corpus[i] ,matrix ) # printing the matrix as well as the data transformed\n",
    "counts = [i for i in vectorizer_instance.fit_transform(data_corpus).todense()]\n",
    "#print(counts)"
   ]
  },
  {
   "cell_type": "code",
   "execution_count": 22,
   "metadata": {},
   "outputs": [
    {
     "name": "stdout",
     "output_type": "stream",
     "text": [
      "('Distance between te 1st and the 2nd document : ', array([[ 2.44948974]]))\n"
     ]
    }
   ],
   "source": [
    "# Ecuilidean distance ; distance between the two vectors   d=  x0 - x1\n",
    "from sklearn.metrics.pairwise import euclidean_distances\n",
    "print(\"Distance between te 1st and the 2nd document : \", euclidean_distances( counts[0],counts[1])) # Calculats teh distabnce \n",
    "# BEtween the two given documents\n",
    "\n"
   ]
  },
  {
   "cell_type": "code",
   "execution_count": 24,
   "metadata": {},
   "outputs": [
    {
     "name": "stdout",
     "output_type": "stream",
     "text": [
      "{u'duke': 2, u'basketball': 1, u'lost': 4, u'played': 5, u'game': 3, u'sandwich': 6, u'unc': 7, u'ate': 0}\n"
     ]
    }
   ],
   "source": [
    "# using the stop words ,and removing them from the count string ! \n",
    "vectorized_stop_instance = CountVectorizer(stop_words = 'english') #\n",
    "vectorized_stop_instance.fit_transform(data_corpus).todense() # Converting the Vectorized in stance ofthe doc\n",
    "print(vectorized_stop_instance.vocabulary_)"
   ]
  },
  {
   "cell_type": "code",
   "execution_count": null,
   "metadata": {
    "collapsed": true
   },
   "outputs": [],
   "source": []
  }
 ],
 "metadata": {
  "kernelspec": {
   "display_name": "Python 2",
   "language": "python",
   "name": "python2"
  },
  "language_info": {
   "codemirror_mode": {
    "name": "ipython",
    "version": 2
   },
   "file_extension": ".py",
   "mimetype": "text/x-python",
   "name": "python",
   "nbconvert_exporter": "python",
   "pygments_lexer": "ipython2",
   "version": "2.7.13"
  }
 },
 "nbformat": 4,
 "nbformat_minor": 2
}
