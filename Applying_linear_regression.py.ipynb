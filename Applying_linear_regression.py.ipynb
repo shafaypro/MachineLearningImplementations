{
 "cells": [
  {
   "cell_type": "code",
   "execution_count": 10,
   "metadata": {},
   "outputs": [
    {
     "data": {
      "text/html": [
       "<div>\n",
       "<style>\n",
       "    .dataframe thead tr:only-child th {\n",
       "        text-align: right;\n",
       "    }\n",
       "\n",
       "    .dataframe thead th {\n",
       "        text-align: left;\n",
       "    }\n",
       "\n",
       "    .dataframe tbody tr th {\n",
       "        vertical-align: top;\n",
       "    }\n",
       "</style>\n",
       "<table border=\"1\" class=\"dataframe\">\n",
       "  <thead>\n",
       "    <tr style=\"text-align: right;\">\n",
       "      <th></th>\n",
       "      <th>fixed acidity</th>\n",
       "      <th>volatile acidity</th>\n",
       "      <th>citric acid</th>\n",
       "      <th>residual sugar</th>\n",
       "      <th>chlorides</th>\n",
       "      <th>free sulfur dioxide</th>\n",
       "      <th>total sulfur dioxide</th>\n",
       "      <th>density</th>\n",
       "      <th>pH</th>\n",
       "      <th>sulphates</th>\n",
       "      <th>alcohol</th>\n",
       "      <th>quality</th>\n",
       "    </tr>\n",
       "  </thead>\n",
       "  <tbody>\n",
       "    <tr>\n",
       "      <th>count</th>\n",
       "      <td>1599.000000</td>\n",
       "      <td>1599.000000</td>\n",
       "      <td>1599.000000</td>\n",
       "      <td>1599.000000</td>\n",
       "      <td>1599.000000</td>\n",
       "      <td>1599.000000</td>\n",
       "      <td>1599.000000</td>\n",
       "      <td>1599.000000</td>\n",
       "      <td>1599.000000</td>\n",
       "      <td>1599.000000</td>\n",
       "      <td>1599.000000</td>\n",
       "      <td>1599.000000</td>\n",
       "    </tr>\n",
       "    <tr>\n",
       "      <th>mean</th>\n",
       "      <td>8.319637</td>\n",
       "      <td>0.527821</td>\n",
       "      <td>0.270976</td>\n",
       "      <td>2.538806</td>\n",
       "      <td>0.087467</td>\n",
       "      <td>15.874922</td>\n",
       "      <td>46.467792</td>\n",
       "      <td>0.996747</td>\n",
       "      <td>3.311113</td>\n",
       "      <td>0.658149</td>\n",
       "      <td>10.422983</td>\n",
       "      <td>5.636023</td>\n",
       "    </tr>\n",
       "    <tr>\n",
       "      <th>std</th>\n",
       "      <td>1.741096</td>\n",
       "      <td>0.179060</td>\n",
       "      <td>0.194801</td>\n",
       "      <td>1.409928</td>\n",
       "      <td>0.047065</td>\n",
       "      <td>10.460157</td>\n",
       "      <td>32.895324</td>\n",
       "      <td>0.001887</td>\n",
       "      <td>0.154386</td>\n",
       "      <td>0.169507</td>\n",
       "      <td>1.065668</td>\n",
       "      <td>0.807569</td>\n",
       "    </tr>\n",
       "    <tr>\n",
       "      <th>min</th>\n",
       "      <td>4.600000</td>\n",
       "      <td>0.120000</td>\n",
       "      <td>0.000000</td>\n",
       "      <td>0.900000</td>\n",
       "      <td>0.012000</td>\n",
       "      <td>1.000000</td>\n",
       "      <td>6.000000</td>\n",
       "      <td>0.990070</td>\n",
       "      <td>2.740000</td>\n",
       "      <td>0.330000</td>\n",
       "      <td>8.400000</td>\n",
       "      <td>3.000000</td>\n",
       "    </tr>\n",
       "    <tr>\n",
       "      <th>25%</th>\n",
       "      <td>7.100000</td>\n",
       "      <td>0.390000</td>\n",
       "      <td>0.090000</td>\n",
       "      <td>1.900000</td>\n",
       "      <td>0.070000</td>\n",
       "      <td>7.000000</td>\n",
       "      <td>22.000000</td>\n",
       "      <td>0.995600</td>\n",
       "      <td>3.210000</td>\n",
       "      <td>0.550000</td>\n",
       "      <td>9.500000</td>\n",
       "      <td>5.000000</td>\n",
       "    </tr>\n",
       "    <tr>\n",
       "      <th>50%</th>\n",
       "      <td>7.900000</td>\n",
       "      <td>0.520000</td>\n",
       "      <td>0.260000</td>\n",
       "      <td>2.200000</td>\n",
       "      <td>0.079000</td>\n",
       "      <td>14.000000</td>\n",
       "      <td>38.000000</td>\n",
       "      <td>0.996750</td>\n",
       "      <td>3.310000</td>\n",
       "      <td>0.620000</td>\n",
       "      <td>10.200000</td>\n",
       "      <td>6.000000</td>\n",
       "    </tr>\n",
       "    <tr>\n",
       "      <th>75%</th>\n",
       "      <td>9.200000</td>\n",
       "      <td>0.640000</td>\n",
       "      <td>0.420000</td>\n",
       "      <td>2.600000</td>\n",
       "      <td>0.090000</td>\n",
       "      <td>21.000000</td>\n",
       "      <td>62.000000</td>\n",
       "      <td>0.997835</td>\n",
       "      <td>3.400000</td>\n",
       "      <td>0.730000</td>\n",
       "      <td>11.100000</td>\n",
       "      <td>6.000000</td>\n",
       "    </tr>\n",
       "    <tr>\n",
       "      <th>max</th>\n",
       "      <td>15.900000</td>\n",
       "      <td>1.580000</td>\n",
       "      <td>1.000000</td>\n",
       "      <td>15.500000</td>\n",
       "      <td>0.611000</td>\n",
       "      <td>72.000000</td>\n",
       "      <td>289.000000</td>\n",
       "      <td>1.003690</td>\n",
       "      <td>4.010000</td>\n",
       "      <td>2.000000</td>\n",
       "      <td>14.900000</td>\n",
       "      <td>8.000000</td>\n",
       "    </tr>\n",
       "  </tbody>\n",
       "</table>\n",
       "</div>"
      ],
      "text/plain": [
       "       fixed acidity  volatile acidity  citric acid  residual sugar  \\\n",
       "count    1599.000000       1599.000000  1599.000000     1599.000000   \n",
       "mean        8.319637          0.527821     0.270976        2.538806   \n",
       "std         1.741096          0.179060     0.194801        1.409928   \n",
       "min         4.600000          0.120000     0.000000        0.900000   \n",
       "25%         7.100000          0.390000     0.090000        1.900000   \n",
       "50%         7.900000          0.520000     0.260000        2.200000   \n",
       "75%         9.200000          0.640000     0.420000        2.600000   \n",
       "max        15.900000          1.580000     1.000000       15.500000   \n",
       "\n",
       "         chlorides  free sulfur dioxide  total sulfur dioxide      density  \\\n",
       "count  1599.000000          1599.000000           1599.000000  1599.000000   \n",
       "mean      0.087467            15.874922             46.467792     0.996747   \n",
       "std       0.047065            10.460157             32.895324     0.001887   \n",
       "min       0.012000             1.000000              6.000000     0.990070   \n",
       "25%       0.070000             7.000000             22.000000     0.995600   \n",
       "50%       0.079000            14.000000             38.000000     0.996750   \n",
       "75%       0.090000            21.000000             62.000000     0.997835   \n",
       "max       0.611000            72.000000            289.000000     1.003690   \n",
       "\n",
       "                pH    sulphates      alcohol      quality  \n",
       "count  1599.000000  1599.000000  1599.000000  1599.000000  \n",
       "mean      3.311113     0.658149    10.422983     5.636023  \n",
       "std       0.154386     0.169507     1.065668     0.807569  \n",
       "min       2.740000     0.330000     8.400000     3.000000  \n",
       "25%       3.210000     0.550000     9.500000     5.000000  \n",
       "50%       3.310000     0.620000    10.200000     6.000000  \n",
       "75%       3.400000     0.730000    11.100000     6.000000  \n",
       "max       4.010000     2.000000    14.900000     8.000000  "
      ]
     },
     "execution_count": 10,
     "metadata": {},
     "output_type": "execute_result"
    }
   ],
   "source": [
    "from sklearn.linear_model import LinearRegression # Linear Regressioon Model for the Regression Implementation\n",
    "import pandas as pd # Importing the pandas libbrary for the Data Analysis tools\n",
    "import numpy as np\n",
    "dataframe = pd.read_csv(\"winequality-red.csv\")\n",
    "dataframe.describe() # Outputs the Dataframe in a way\n"
   ]
  },
  {
   "cell_type": "code",
   "execution_count": 11,
   "metadata": {},
   "outputs": [
    {
     "data": {
      "image/png": "[encoded data removed]",
      "text/plain": [
       "<matplotlib.figure.Figure at 0x1a141c6dd0>"
      ]
     },
     "metadata": {},
     "output_type": "display_data"
    }
   ],
   "source": [
    "# Creating the Quality and the Alchol relation Matplotlib Graphc\n",
    "from matplotlib import pyplot as plt\n",
    "plt1 = plt\n",
    "plt1.scatter(dataframe[\"alcohol\"],dataframe[\"quality\"])\n",
    "plt1.xlabel(\"Alcohol\")\n",
    "plt1.ylabel(\"Quality\")\n",
    "plt1.title(\"Alchol Against Quality\")\n",
    "plt1.show()"
   ]
  },
  {
   "cell_type": "code",
   "execution_count": 12,
   "metadata": {},
   "outputs": [
    {
     "data": {
      "image/png": "[encoded data removed]",
      "text/plain": [
       "<matplotlib.figure.Figure at 0x1a14122c50>"
      ]
     },
     "metadata": {},
     "output_type": "display_data"
    }
   ],
   "source": [
    "plt2 = plt\n",
    "plt2.scatter(dataframe[\"volatile acidity\"],dataframe[\"quality\"])\n",
    "plt2.xlabel(\"Volatile Acidity\")\n",
    "plt2.ylabel(\"Quality\")\n",
    "plt2.title(\"Volatile Acidity Against Quality\")\n",
    "plt2.show()\n",
    "# This reveals the negative relation ship between the Volatile Acidity and the Quality"
   ]
  },
  {
   "cell_type": "code",
   "execution_count": 30,
   "metadata": {},
   "outputs": [
    {
     "name": "stdout",
     "output_type": "stream",
     "text": [
      "               fixed acidity  volatile acidity  citric acid  residual sugar  \\\n",
      "fixed acidity            1.0         -0.256131     0.671703        0.114777   \n",
      "\n",
      "               chlorides  free sulfur dioxide  total sulfur dioxide   density  \\\n",
      "fixed acidity   0.093705            -0.153794             -0.113181  0.668047   \n",
      "\n",
      "                     pH  sulphates   alcohol   quality  \n",
      "fixed acidity -0.682978   0.183006 -0.061668  0.124052  \n"
     ]
    }
   ],
   "source": [
    "corr_matrix = dataframe.corr().abs() # gets the absolute correlation betwee the data frames and otehrs.\n",
    "# os = (corr_matrix.where(np.triu(np.ones(corr_matrix.shape), k=1).astype(np.bool))\n",
    "#                  .stack()\n",
    "#                  .order(ascending=False))\n",
    "#print(corr_matrix.where(np.triu(np.ones(corr_matrix.shape), k=1).astype(np.bool)).stack())\n",
    "# os = sorted(corr_matrix.where(np.triu(np.ones(corr_matrix.shape), k=1).astype(np.bool)).stack())\n",
    "# print(os[-1])\n",
    "# # print(max(dataframe.corr())) # This gives use the maximum correlation value\n",
    "# print(min(dataframe.corr()))\n",
    "print(dataframe.corr().head(1))"
   ]
  },
  {
   "cell_type": "markdown",
   "metadata": {},
   "source": [
    "# Fitting and evaluating the model"
   ]
  },
  {
   "cell_type": "code",
   "execution_count": 97,
   "metadata": {},
   "outputs": [
    {
     "name": "stdout",
     "output_type": "stream",
     "text": [
      "(1199, 1199, 400, 400)\n",
      "('R-Squared :', 0.34496033007429583)\n",
      "(400, 1199)\n"
     ]
    },
    {
     "data": {
      "image/png": "[encoded data removed]",
      "text/plain": [
       "<matplotlib.figure.Figure at 0x1a16251750>"
      ]
     },
     "metadata": {},
     "output_type": "display_data"
    },
    {
     "name": "stdout",
     "output_type": "stream",
     "text": [
      "(5, True, 5.0599718721448426)\n",
      "(6, True, 6.2657837604144895)\n",
      "(5, True, 4.9727038268356587)\n",
      "(5, True, 5.323512082677059)\n",
      "(5, True, 5.3074819916226481)\n",
      "(5, True, 5.2609894899444605)\n",
      "(6, True, 6.0301594609802649)\n",
      "(5, True, 5.286003480953827)\n",
      "(6, True, 5.7254868431949397)\n",
      "(5, True, 5.4598429890577229)\n",
      "(6, True, 5.6645248506765178)\n",
      "(6, True, 6.1854085776684826)\n",
      "(5, True, 5.42502078698136)\n",
      "(5, True, 5.2176516881745627)\n",
      "(5, True, 4.9329340837462823)\n",
      "(5, True, 5.3107250023877022)\n",
      "(6, True, 5.6215925674320992)\n",
      "(5, True, 5.2353299890560265)\n",
      "(5, True, 5.0355395378374084)\n",
      "(5, True, 5.3550144709336251)\n",
      "(5, True, 5.0468328243943077)\n",
      "(5, True, 5.1080685768624612)\n",
      "(5, True, 5.32630950193888)\n",
      "(5, True, 5.4590375072909723)\n",
      "(5, True, 5.1619325512759318)\n",
      "(5, True, 5.0825980576651908)\n",
      "(5, True, 5.1812923091798879)\n",
      "(5, True, 5.3267211308754554)\n",
      "(6, True, 5.5026506845131209)\n",
      "(5, True, 5.2388267257511565)\n",
      "(6, True, 5.6178825335112315)\n",
      "(6, True, 6.1434245557639855)\n",
      "(6, True, 6.2503930376456012)\n",
      "(5, True, 4.8269513337564049)\n",
      "(5, True, 5.2723780686748967)\n",
      "(6, True, 5.647350485476931)\n",
      "(6, True, 6.1292555059980884)\n",
      "(6, True, 5.7709940270675659)\n",
      "(5, True, 5.0950491475425679)\n",
      "(6, True, 5.5479263055751318)\n",
      "(5, True, 5.4785274650286766)\n",
      "(5, True, 5.3444784437015755)\n",
      "(5, True, 5.3736861733570009)\n",
      "(5, True, 4.8951522912136909)\n",
      "(5, True, 5.1383030256284172)\n",
      "(5, True, 5.3954268702608488)\n",
      "(6, True, 6.1734079749153956)\n",
      "(5, True, 4.9004372809111985)\n",
      "(5, True, 5.3413237324993048)\n",
      "(5, True, 5.152517831901438)\n",
      "(5, True, 4.7297055537919235)\n",
      "(6, True, 6.2353657409396135)\n",
      "(5, True, 5.1827914299600337)\n",
      "(6, True, 5.6614230221727198)\n",
      "(5, True, 4.89435697687518)\n",
      "(5, True, 5.2140147809828363)\n",
      "(5, True, 5.2554965288092745)\n",
      "(5, True, 5.3716394397210117)\n",
      "(6, True, 5.6404329191767104)\n",
      "(5, True, 5.2256068337936519)\n",
      "(5, True, 4.6769436894587386)\n",
      "(5, True, 4.9699368816117655)\n",
      "(6, True, 6.2248230473092931)\n",
      "(6, True, 5.6647410171763468)\n",
      "(5, True, 5.4761486847470486)\n",
      "(6, True, 5.5484743672280104)\n",
      "(5, True, 5.3361848199461406)\n",
      "(5, True, 5.254873601870365)\n",
      "(5, True, 5.4980618814113278)\n",
      "(5, True, 5.3976370072494717)\n",
      "(5, True, 5.2344916033168936)\n",
      "(5, True, 5.2609894899444605)\n",
      "(6, True, 5.708767814134692)\n",
      "(5, True, 4.9403910679819134)\n",
      "(5, True, 5.0460061254176409)\n",
      "(5, True, 5.0875098653999338)\n",
      "(5, True, 5.4084478284848494)\n",
      "(5, True, 5.2597849564836352)\n",
      "(6, True, 5.5927759362784784)\n",
      "(5, True, 5.1296089513457162)\n",
      "(5, True, 5.3477413837906873)\n",
      "(6, True, 5.8722355891982652)\n",
      "(5, True, 5.1546843409189869)\n",
      "(5, True, 5.0079315138860139)\n",
      "(5, True, 5.3495030409595117)\n",
      "(6, True, 5.8612251925426158)\n",
      "(6, True, 6.3593045942870212)\n",
      "(6, True, 6.3515812620292369)\n",
      "(6, True, 6.4098739344811193)\n",
      "(6, True, 5.7709940270675659)\n",
      "(6, True, 5.9201363469081514)\n",
      "(6, True, 6.1635017375901349)\n",
      "(6, True, 5.7695168866679474)\n",
      "(6, True, 5.5697369286492453)\n",
      "(6, True, 5.6244200392643862)\n",
      "(5, True, 5.1839840605191512)\n",
      "(6, True, 5.8841215438332384)\n",
      "(5, True, 5.4653614314705621)\n",
      "(5, True, 5.237020926603968)\n",
      "(5, True, 5.2843894253558545)\n",
      "(6, True, 5.7266999783817383)\n",
      "(6, True, 5.5078531281560821)\n",
      "(6, True, 6.0809266953529715)\n",
      "(6, True, 6.4446669686402593)\n",
      "(6, True, 6.0756020101497015)\n",
      "(5, True, 5.2921616021845779)\n",
      "(5, True, 5.2904790776191035)\n",
      "(6, True, 6.2605717068516853)\n",
      "(6, True, 5.8658484631973664)\n",
      "(5, True, 5.1418100590160769)\n",
      "(5, True, 5.2808524395161776)\n",
      "(6, True, 5.6239858965883691)\n",
      "(5, True, 5.3452060720307912)\n",
      "(5, True, 5.1296089513457162)\n",
      "(6, True, 5.5196803911502244)\n",
      "(6, True, 5.9214819052290188)\n",
      "(6, True, 5.6000836563089642)\n",
      "(6, True, 6.2355570735822141)\n",
      "(6, True, 5.7571299256191821)\n",
      "(6, True, 5.7658606682003608)\n",
      "(5, True, 5.4391804145206919)\n",
      "(6, True, 6.421816518267832)\n",
      "(6, True, 5.6620304075269416)\n",
      "(6, True, 5.6620304075269416)\n",
      "(6, True, 5.556870799621791)\n",
      "(5, True, 5.4160264807997827)\n",
      "(6, True, 5.8383511841476796)\n",
      "(6, True, 5.9758356695122856)\n",
      "(6, True, 5.9764202310923942)\n",
      "(5, True, 5.3292614713003132)\n",
      "(6, True, 5.8694516195000475)\n",
      "(6, True, 5.7665317965041609)\n",
      "(6, True, 6.4354887170289743)\n",
      "(6, True, 5.8394038377338333)\n",
      "(6, True, 5.5078531281560821)\n",
      "(6, True, 6.1316209013076843)\n",
      "(5, True, 5.3494465985430963)\n",
      "(6, True, 6.1168269060658886)\n",
      "(5, True, 4.8582088116719291)\n",
      "(5, True, 5.3382886717440208)\n",
      "(5, True, 5.2172317057877748)\n",
      "(7, True, 6.5475858796213959)\n",
      "(6, True, 6.0349019593394608)\n",
      "(5, True, 4.9056274275064915)\n",
      "(6, True, 5.7548461752125277)\n",
      "(5, True, 5.0436791389253983)\n",
      "(6, True, 5.7719240420492106)\n",
      "(6, True, 6.39914593959824)\n",
      "(6, True, 6.1817544868769332)\n",
      "(6, True, 5.8693855125450618)\n",
      "(6, True, 5.6993243188764886)\n",
      "(6, True, 5.8109572597893333)\n",
      "(6, True, 6.2425294107566955)\n",
      "(6, True, 5.7243110626532641)\n",
      "(5, True, 5.2461628840025227)\n",
      "(6, True, 5.9812402055911953)\n",
      "(5, True, 5.0631817359449514)\n",
      "('true prediction : ', 157)\n",
      "('Total Prediction :', 1599)\n"
     ]
    }
   ],
   "source": [
    "from sklearn.linear_model import LinearRegression # FOR LR\n",
    "#from sklearn.cross_validation import train_test_split # Splits the data in the form of train and sets\n",
    "# There is another method for the Selection of the train and the test splitting ! \n",
    "from sklearn.model_selection import train_test_split # This is for the training sets and samples .! \n",
    "from sklearn.model_selection import cross_val_score # For cross valdation ! \n",
    "plot2  = plt # Having the plot\n",
    "X = dataframe[list(dataframe.columns)[:-1]] # All dataframes except the last one ( which is the quality)\n",
    "Y = dataframe['quality']\n",
    "X_train,X_test,Y_train,Y_test = train_test_split(X,Y) # This function gets the Training and the testin Samples Itself, \n",
    "# The Common division with 20 % of test data and the rest 80% of the training data .\n",
    "regressor = LinearRegression() # This is the Linear Regression Model\n",
    "# plot2.plot(X_test,Y_test, label  = \"Training data\")\n",
    "regressor.fit(X_train,Y_train) # Fitting the training data in the linear regression model\n",
    "y_prediction = regressor.predict(X_test) # predicting the test data on teh basis of the provided testing data frame\\\n",
    "# The date frame is extracted from the csv file and splited basedon the splot data set . \n",
    "# The prediction will be used to compare the results with the data set given and then applied on the data\n",
    "print(len(X_train),len(Y_train),len(X_test),len(Y_test))\n",
    "# plot2.plot(X_train,Y_train,label = \"Training Data\")\n",
    "# plot2.axis([0,20,0,20])\n",
    "print (\"R-Squared :\",regressor.score(X_test,Y_test))\n",
    "# plot2.show()\n",
    "# SELF CREATED PREDICTION CHECK HOW MUCH WAS ACCURATE\n",
    "#print(len(y_prediction),len(Y_train))\n",
    "\n",
    "true_prediction = 0\n",
    "for item,score in enumerate(y_prediction):\n",
    "    # print(Y[item],round(Y[item]) == round(score) , score) # Add this to see the output\n",
    "    if round(Y[item]) == round(score):\n",
    "        true_prediction += 1\n",
    "        print(Y[item],round(Y[item]) == round(score) , score)\n",
    "print(\"true prediction : \",true_prediction)\n",
    "print(\"Total Prediction :\",len(Y)) # WORST PREDICTION BY THE ALGORITHM.\n"
   ]
  },
  {
   "cell_type": "code",
   "execution_count": 98,
   "metadata": {},
   "outputs": [
    {
     "data": {
      "image/png": "[encoded data removed]",
      "text/plain": [
       "<matplotlib.figure.Figure at 0x1a1591fe50>"
      ]
     },
     "metadata": {},
     "output_type": "display_data"
    }
   ],
   "source": [
    "plot2.scatter(Y_test,y_prediction) # Showing the ploted Accuracy for the model. as per predicted\n",
    "# its better for predicting the wines ( thats a strange hing )\n",
    "plot2.show()"
   ]
  },
  {
   "cell_type": "markdown",
   "metadata": {},
   "source": [
    "## CROSS VALIDATION SCORE PRODUCES BETTER ESTIMATES "
   ]
  },
  {
   "cell_type": "code",
   "execution_count": 89,
   "metadata": {},
   "outputs": [
    {
     "name": "stdout",
     "output_type": "stream",
     "text": [
      "[ 0.13200871  0.31858135  0.34955348  0.369145    0.2809196 ]\n",
      "0.290041628842\n",
      "<built-in method view of numpy.ndarray object at 0x1a1592ee90>\n"
     ]
    }
   ],
   "source": [
    "X = dataframe[list(dataframe.columns)[:-1]] # All dataframes except the last one ( which is the quality)\n",
    "Y = dataframe['quality']\n",
    "regressor = LinearRegression() # model\n",
    "scores = cross_val_score(regressor, X,Y, cv =5) # A model , Data exploratory data:X , data Response :Y\n",
    "print(scores) # This generates some random number of Crossvalidation \n",
    "# Random sets of cross validation : you can choose the best one \n",
    "print(scores.mean()) # Printing the mean for the scores obtained from cross validation !\n",
    "# print(scores.view)\n",
    "#print(scores.key())\n",
    "#regressor.predict()\n"
   ]
  },
  {
   "cell_type": "markdown",
   "metadata": {},
   "source": [
    "# APPLYING GRADIENT DESCENT : BATCH , STOCHASTIC"
   ]
  },
  {
   "cell_type": "code",
   "execution_count": 3,
   "metadata": {
    "collapsed": true
   },
   "outputs": [],
   "source": [
    "import numpy as np # Numpy \n",
    "from sklearn.linear_model import LinearRegression # Linear Regression Model.\n",
    "from sklearn.model_selection import cross_val_score # CROSS VALIDATION OF MODEL\n",
    "from sklearn.linear_model import SGDRegressor # Gradient Descent : Stochastic :  updates using a single instance\n",
    "from sklearn.datasets import load_boston # Already buitin data set for the loading of the boston \n",
    "from sklearn.preprocessing import StandardScaler # FOR FITTING AND TRANSFORMATION OF THE DATA PREPROCESSED . \n",
    "from sklearn.model_selection import train_test_split # For automatically having a data set in 4 lists [XT,XTRAIN,Y,YTRAIN]\n",
    "#from sklearn.cross_validation import train_test_split\n",
    "data = load_boston()\n",
    "# Having the Train test spliting \n",
    "#print(data.target)\n",
    "X_train,X_test, Y_train, Y_test = train_test_split(data.data,data.target)# data.data are exploratory variable, data.target is Y one"
   ]
  },
  {
   "cell_type": "code",
   "execution_count": 17,
   "metadata": {
    "collapsed": true
   },
   "outputs": [],
   "source": [
    "# #print(Y_train)\n",
    "# # Having the scaled Features for the StandardScaler configuration  !\n",
    "# X_Scaler = StandardScaler() # \n",
    "# Y_Scaler= StandardScaler() # Will be used to conver to scaler using the fit_transform stuff\n",
    "# X_Train = X_Scaler.fit_transform(X_train) # Fitting the trainng data nd then transforming using the standard scaler\n",
    "# print(X_Train) # DEBUGGIN\n",
    "# print(np.array([Y_train])) #Debugging\n",
    "# Y_Train = Y_Scaler.fit_transform(np.array([Y_train])) # Fitting and transforming the response data\n",
    "# X_Test = X_Scaler.transform(X_test) # Transform the test using the X_test\n",
    "\n",
    "# #Y_Test = Y_Scaler.transform(np.array([Y_test])) # Transforms the test using the Y_test\n"
   ]
  },
  {
   "cell_type": "code",
   "execution_count": 18,
   "metadata": {
    "collapsed": true
   },
   "outputs": [],
   "source": [
    "# regressor = SGDRegressor(loss = 'squared_loss')\n",
    "# score = cross_val_score(regressor,  X_train , Y_train, cv = 5) # Having the SScore cross validation for the training data set\n",
    "# print('Cross Validation r-squared Score: ',score)\n",
    "# print(\"Average cross validation \",np.mean(score))\n",
    "# regressor.fit_transform(X_train,Y_train) # Fiting and then transforming!\n",
    "# print(\"Test Score : \",regressor.score(X_test,Y_test))"
   ]
  },
  {
   "cell_type": "code",
   "execution_count": 19,
   "metadata": {},
   "outputs": [
    {
     "data": {
      "text/plain": [
       "'0.19.0'"
      ]
     },
     "execution_count": 19,
     "metadata": {},
     "output_type": "execute_result"
    }
   ],
   "source": [
    "import sklearn\n",
    "sklearn.__version__"
   ]
  },
  {
   "cell_type": "code",
   "execution_count": 2,
   "metadata": {},
   "outputs": [
    {
     "name": "stderr",
     "output_type": "stream",
     "text": [
      "/Users/shafay.amjad/anaconda2/lib/python2.7/site-packages/sklearn/linear_model/stochastic_gradient.py:84: FutureWarning: max_iter and tol parameters have been added in <class 'sklearn.linear_model.stochastic_gradient.SGDClassifier'> in 0.19. If both are left unset, they default to max_iter=5 and tol=None. If tol is not None, max_iter defaults to max_iter=1000. From 0.21, default max_iter will be 1000, and default tol will be 1e-3.\n",
      "  \"and default tol will be 1e-3.\" % type(self), FutureWarning)\n"
     ]
    },
    {
     "name": "stdout",
     "output_type": "stream",
     "text": [
      "SGDClassifier(alpha=0.0001, average=False, class_weight=None, epsilon=0.1,\n",
      "       eta0=0.0, fit_intercept=True, l1_ratio=0.15,\n",
      "       learning_rate='optimal', loss='hinge', max_iter=5, n_iter=None,\n",
      "       n_jobs=1, penalty='l2', power_t=0.5, random_state=None,\n",
      "       shuffle=True, tol=None, verbose=0, warm_start=False)\n",
      "[[ 9.91080278  9.91080278]]\n"
     ]
    }
   ],
   "source": [
    "from sklearn.linear_model import SGDClassifier # Importing the classifiers\n",
    "X = [[0., 0.], [1., 1.]] # Sample Exploratory edata set\n",
    "Y = [0,1 ] # Sample Training Responses which would be matched ! \n",
    "clf = SGDClassifier(loss = \"hinge\", penalty = \"l2\") # loss --> hinge : soft margin LSVM, log --> logestic Regression , \n",
    "clf.fit(X,Y) # Classifier being used to fit the data\n",
    "print(clf)\n",
    "# Takes all the things bydefault  , the penalty is L2 , \n",
    "# GRADIENT DESCENT ON LINEAR REGRESSION BASED CLASSIFIER\n",
    "clf.predict([[2,2]]) # PREDICTS THE INPUT DATASET X --> Y \n",
    "print(clf.coef_) # prints the coefficent for the Clf. # it has the model parameters  # Currently  two parameters"
   ]
  },
  {
   "cell_type": "code",
   "execution_count": 3,
   "metadata": {},
   "outputs": [
    {
     "name": "stdout",
     "output_type": "stream",
     "text": [
      "[-9.97004991]\n"
     ]
    }
   ],
   "source": [
    "# For checking the intercepts of the CLassifier\n",
    "print(clf.intercept_) # prints he intercept aka offset or bias  # This can be controlled using the fit_intercept  # Parameter"
   ]
  },
  {
   "cell_type": "code",
   "execution_count": 5,
   "metadata": {},
   "outputs": [
    {
     "data": {
      "text/plain": [
       "array([ 29.67316119])"
      ]
     },
     "execution_count": 5,
     "metadata": {},
     "output_type": "execute_result"
    }
   ],
   "source": [
    "# To get the signed distance fro mthe hyhper ploace to the specific point , its like : \n",
    "clf.decision_function([[2,2]]) # This is for the Linear modeling using a single variable >  ! ! ! ! ! \n"
   ]
  },
  {
   "cell_type": "code",
   "execution_count": 8,
   "metadata": {},
   "outputs": [
    {
     "data": {
      "text/plain": [
       "array([[  4.97248476e-07,   9.99999503e-01]])"
      ]
     },
     "execution_count": 8,
     "metadata": {},
     "output_type": "execute_result"
    }
   ],
   "source": [
    "#HAVING THE LOG AS LOSS\n",
    "clf = SGDClassifier(loss = \"log\").fit(X,Y) # Fitting the module using the logestic Loss function regession on the gradient\n",
    "clf.predict_proba([[1., 1.]]) # Gives a probability vector estimates on the Classifier Showing the result of matching.\n",
    "# THe first one will produce almost zero , wile the second one would be 0.99 as its the matching element with the trained\n"
   ]
  },
  {
   "cell_type": "code",
   "execution_count": null,
   "metadata": {
    "collapsed": true
   },
   "outputs": [],
   "source": []
  }
 ],
 "metadata": {
  "kernelspec": {
   "display_name": "Python 2",
   "language": "python",
   "name": "python2"
  },
  "language_info": {
   "codemirror_mode": {
    "name": "ipython",
    "version": 2
   },
   "file_extension": ".py",
   "mimetype": "text/x-python",
   "name": "python",
   "nbconvert_exporter": "python",
   "pygments_lexer": "ipython2",
   "version": "2.7.13"
  }
 },
 "nbformat": 4,
 "nbformat_minor": 2
}
